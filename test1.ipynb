{
 "cells": [
  {
   "cell_type": "code",
   "execution_count": 1,
   "id": "fb79a01e-a4d0-4504-81ac-6e1aeb086b1f",
   "metadata": {
    "execution": {
     "iopub.execute_input": "2025-01-11T08:12:03.524218Z",
     "iopub.status.busy": "2025-01-11T08:12:03.523696Z",
     "iopub.status.idle": "2025-01-11T08:12:03.814991Z",
     "shell.execute_reply": "2025-01-11T08:12:03.814710Z",
     "shell.execute_reply.started": "2025-01-11T08:12:03.524182Z"
    }
   },
   "outputs": [],
   "source": [
    "import openai"
   ]
  },
  {
   "cell_type": "code",
   "execution_count": 2,
   "id": "cfe6fc66-891a-498e-b384-b65a1ed5315a",
   "metadata": {
    "execution": {
     "iopub.execute_input": "2025-01-11T08:12:04.277660Z",
     "iopub.status.busy": "2025-01-11T08:12:04.277162Z",
     "iopub.status.idle": "2025-01-11T08:12:04.281114Z",
     "shell.execute_reply": "2025-01-11T08:12:04.280376Z",
     "shell.execute_reply.started": "2025-01-11T08:12:04.277606Z"
    }
   },
   "outputs": [],
   "source": [
    "from openai import OpenAI"
   ]
  },
  {
   "cell_type": "code",
   "execution_count": 3,
   "id": "bc9b04ec-1cb5-4f53-a445-13abf192d567",
   "metadata": {
    "execution": {
     "iopub.execute_input": "2025-01-11T08:12:06.247553Z",
     "iopub.status.busy": "2025-01-11T08:12:06.247164Z",
     "iopub.status.idle": "2025-01-11T08:12:06.323375Z",
     "shell.execute_reply": "2025-01-11T08:12:06.323003Z",
     "shell.execute_reply.started": "2025-01-11T08:12:06.247529Z"
    }
   },
   "outputs": [],
   "source": [
    "client = OpenAI()\n"
   ]
  },
  {
   "cell_type": "code",
   "execution_count": 4,
   "id": "b9e27420-ad6b-4b2f-83c7-583c48e96aec",
   "metadata": {
    "execution": {
     "iopub.execute_input": "2025-01-11T08:12:09.408243Z",
     "iopub.status.busy": "2025-01-11T08:12:09.407651Z",
     "iopub.status.idle": "2025-01-11T08:12:11.327090Z",
     "shell.execute_reply": "2025-01-11T08:12:11.326583Z",
     "shell.execute_reply.started": "2025-01-11T08:12:09.408206Z"
    }
   },
   "outputs": [],
   "source": [
    "response = client.chat.completions.create(\n",
    "    model='gpt-4o-mini',\n",
    "    messages=[{\"role\": \"user\",\n",
    "               \"content\": \"is it too late to join the course?\"}]\n",
    ")"
   ]
  },
  {
   "cell_type": "code",
   "execution_count": 5,
   "id": "5356a42d-055c-44e9-b8ca-dfd0e8956b0f",
   "metadata": {
    "execution": {
     "iopub.execute_input": "2025-01-11T08:12:11.916350Z",
     "iopub.status.busy": "2025-01-11T08:12:11.915980Z",
     "iopub.status.idle": "2025-01-11T08:12:11.924426Z",
     "shell.execute_reply": "2025-01-11T08:12:11.923332Z",
     "shell.execute_reply.started": "2025-01-11T08:12:11.916325Z"
    }
   },
   "outputs": [
    {
     "data": {
      "text/plain": [
       "Choice(finish_reason='stop', index=0, logprobs=None, message=ChatCompletionMessage(content=\"It depends on the specific course you're interested in. Some courses have flexible enrollment options, while others might have strict deadlines. I recommend checking the course's official website or contacting the instructor or institution directly to get the most accurate information regarding enrollment.\", refusal=None, role='assistant', audio=None, function_call=None, tool_calls=None))"
      ]
     },
     "execution_count": 5,
     "metadata": {},
     "output_type": "execute_result"
    }
   ],
   "source": [
    "response.choices[0]"
   ]
  },
  {
   "cell_type": "code",
   "execution_count": 6,
   "id": "124dc342-5e31-4bda-b525-b9724c41bf82",
   "metadata": {
    "execution": {
     "iopub.execute_input": "2025-01-11T08:12:12.683239Z",
     "iopub.status.busy": "2025-01-11T08:12:12.682844Z",
     "iopub.status.idle": "2025-01-11T08:12:12.687911Z",
     "shell.execute_reply": "2025-01-11T08:12:12.687358Z",
     "shell.execute_reply.started": "2025-01-11T08:12:12.683213Z"
    }
   },
   "outputs": [
    {
     "data": {
      "text/plain": [
       "\"It depends on the specific course you're interested in. Some courses have flexible enrollment options, while others might have strict deadlines. I recommend checking the course's official website or contacting the instructor or institution directly to get the most accurate information regarding enrollment.\""
      ]
     },
     "execution_count": 6,
     "metadata": {},
     "output_type": "execute_result"
    }
   ],
   "source": [
    "response.choices[0].message.content"
   ]
  },
  {
   "cell_type": "code",
   "execution_count": null,
   "id": "557e5048-76f7-47ca-9239-ff436478d30a",
   "metadata": {},
   "outputs": [],
   "source": []
  }
 ],
 "metadata": {
  "kernelspec": {
   "display_name": "Python-llm",
   "language": "python",
   "name": "llmenv313"
  },
  "language_info": {
   "codemirror_mode": {
    "name": "ipython",
    "version": 3
   },
   "file_extension": ".py",
   "mimetype": "text/x-python",
   "name": "python",
   "nbconvert_exporter": "python",
   "pygments_lexer": "ipython3",
   "version": "3.13.1"
  }
 },
 "nbformat": 4,
 "nbformat_minor": 5
}

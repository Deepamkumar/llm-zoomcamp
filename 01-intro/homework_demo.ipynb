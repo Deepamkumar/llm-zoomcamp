{
 "cells": [
  {
   "cell_type": "code",
   "execution_count": 1,
   "id": "1519f3a9-d796-4b13-a397-4094143cd397",
   "metadata": {
    "execution": {
     "iopub.execute_input": "2025-01-12T07:27:14.160391Z",
     "iopub.status.busy": "2025-01-12T07:27:14.160022Z",
     "iopub.status.idle": "2025-01-12T07:27:14.453704Z",
     "shell.execute_reply": "2025-01-12T07:27:14.453376Z",
     "shell.execute_reply.started": "2025-01-12T07:27:14.160365Z"
    },
    "vscode": {
     "languageId": "python"
    }
   },
   "outputs": [],
   "source": [
    "import openai"
   ]
  },
  {
   "cell_type": "code",
   "execution_count": 2,
   "id": "b6f5f562",
   "metadata": {
    "execution": {
     "iopub.execute_input": "2025-01-12T07:27:14.454511Z",
     "iopub.status.busy": "2025-01-12T07:27:14.454346Z",
     "iopub.status.idle": "2025-01-12T07:27:14.456764Z",
     "shell.execute_reply": "2025-01-12T07:27:14.456444Z",
     "shell.execute_reply.started": "2025-01-12T07:27:14.454499Z"
    },
    "vscode": {
     "languageId": "python"
    }
   },
   "outputs": [],
   "source": [
    "from openai import OpenAI"
   ]
  },
  {
   "cell_type": "code",
   "execution_count": 3,
   "id": "93eb4c11",
   "metadata": {
    "execution": {
     "iopub.execute_input": "2025-01-12T07:27:14.595187Z",
     "iopub.status.busy": "2025-01-12T07:27:14.594840Z",
     "iopub.status.idle": "2025-01-12T07:27:14.658868Z",
     "shell.execute_reply": "2025-01-12T07:27:14.658527Z",
     "shell.execute_reply.started": "2025-01-12T07:27:14.595158Z"
    },
    "vscode": {
     "languageId": "python"
    }
   },
   "outputs": [],
   "source": [
    "client = OpenAI()"
   ]
  },
  {
   "cell_type": "code",
   "execution_count": 4,
   "id": "91047053",
   "metadata": {
    "execution": {
     "iopub.execute_input": "2025-01-12T07:27:14.809314Z",
     "iopub.status.busy": "2025-01-12T07:27:14.808891Z",
     "iopub.status.idle": "2025-01-12T07:27:16.451954Z",
     "shell.execute_reply": "2025-01-12T07:27:16.451312Z",
     "shell.execute_reply.started": "2025-01-12T07:27:14.809284Z"
    },
    "vscode": {
     "languageId": "python"
    }
   },
   "outputs": [],
   "source": [
    "response = client.chat.completions.create(\n",
    "    model='gpt-4o-mini',\n",
    "    messages=[{\"role\": \"user\",\n",
    "               \"content\": \"is it too late to join the course?\"}]\n",
    ")"
   ]
  },
  {
   "cell_type": "code",
   "execution_count": 5,
   "id": "0b6cdb9b",
   "metadata": {
    "execution": {
     "iopub.execute_input": "2025-01-12T07:27:16.454000Z",
     "iopub.status.busy": "2025-01-12T07:27:16.453659Z",
     "iopub.status.idle": "2025-01-12T07:27:16.460634Z",
     "shell.execute_reply": "2025-01-12T07:27:16.460003Z",
     "shell.execute_reply.started": "2025-01-12T07:27:16.453975Z"
    },
    "vscode": {
     "languageId": "python"
    }
   },
   "outputs": [
    {
     "data": {
      "text/plain": [
       "Choice(finish_reason='stop', index=0, logprobs=None, message=ChatCompletionMessage(content=\"It depends on the specific course you're interested in. Many courses have enrollment deadlines or limited capacity, while others may allow rolling admissions. I recommend checking the course's official website or contacting the course administrator for the most accurate information regarding enrollment.\", refusal=None, role='assistant', audio=None, function_call=None, tool_calls=None))"
      ]
     },
     "execution_count": 5,
     "metadata": {},
     "output_type": "execute_result"
    }
   ],
   "source": [
    "response.choices[0]"
   ]
  },
  {
   "cell_type": "code",
   "execution_count": 6,
   "id": "212047a0",
   "metadata": {
    "execution": {
     "iopub.execute_input": "2025-01-12T07:27:16.461630Z",
     "iopub.status.busy": "2025-01-12T07:27:16.461296Z",
     "iopub.status.idle": "2025-01-12T07:27:16.466561Z",
     "shell.execute_reply": "2025-01-12T07:27:16.465969Z",
     "shell.execute_reply.started": "2025-01-12T07:27:16.461606Z"
    },
    "vscode": {
     "languageId": "python"
    }
   },
   "outputs": [
    {
     "data": {
      "text/plain": [
       "\"It depends on the specific course you're interested in. Many courses have enrollment deadlines or limited capacity, while others may allow rolling admissions. I recommend checking the course's official website or contacting the course administrator for the most accurate information regarding enrollment.\""
      ]
     },
     "execution_count": 6,
     "metadata": {},
     "output_type": "execute_result"
    }
   ],
   "source": [
    "response.choices[0].message.content"
   ]
  },
  {
   "cell_type": "code",
   "execution_count": null,
   "id": "130635db-06f3-49db-9dce-ebca9e1fe5ad",
   "metadata": {},
   "outputs": [],
   "source": []
  }
 ],
 "metadata": {
  "kernelspec": {
   "display_name": "Python3llmworkshop1",
   "language": "python",
   "name": "llmworkshop1"
  },
  "language_info": {
   "codemirror_mode": {
    "name": "ipython",
    "version": 3
   },
   "file_extension": ".py",
   "mimetype": "text/x-python",
   "name": "python",
   "nbconvert_exporter": "python",
   "pygments_lexer": "ipython3",
   "version": "3.13.1"
  }
 },
 "nbformat": 4,
 "nbformat_minor": 5
}
